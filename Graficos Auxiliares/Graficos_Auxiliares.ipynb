{
  "nbformat": 4,
  "nbformat_minor": 0,
  "metadata": {
    "colab": {
      "provenance": [],
      "collapsed_sections": [
        "ZH6MfWwi7tSk",
        "qYeUCdDnRhDc",
        "1vbPcV03U4Zr",
        "ET0R8AbbU4Zy",
        "agTqtO6UU4Zy"
      ]
    },
    "kernelspec": {
      "name": "python3",
      "display_name": "Python 3"
    },
    "language_info": {
      "name": "python"
    }
  },
  "cells": [
    {
      "cell_type": "markdown",
      "source": [
        "# Gráficos de Funciones"
      ],
      "metadata": {
        "id": "5K5ypELhKkN3"
      }
    },
    {
      "cell_type": "markdown",
      "source": [
        "##Función ReLU"
      ],
      "metadata": {
        "id": "huTCHoWeKpHo"
      }
    },
    {
      "cell_type": "code",
      "execution_count": null,
      "metadata": {
        "id": "GEhSK31fVXqR"
      },
      "outputs": [],
      "source": [
        "import numpy as np\n",
        "import matplotlib.pyplot as plt\n",
        "\n",
        "# Definir la función ReLU\n",
        "def relu(x):\n",
        "    return np.maximum(0, x)\n",
        "\n",
        "# Crear un rango de valores para x\n",
        "x = np.linspace(-10, 10, 400)\n",
        "y = relu(x)\n",
        "\n",
        "# Crear la gráfica\n",
        "plt.figure(figsize=(6, 5))\n",
        "plt.plot(x, y,'r',linewidth = 2, label=\"ReLU(x)\")\n",
        "plt.title(\"Función ReLU\")\n",
        "plt.xlabel(\"x\")\n",
        "plt.ylabel(\"ReLU(x)\")\n",
        "limits = (-10, 10)\n",
        "limits = (-6, 6)\n",
        "plt.xlim(limits)\n",
        "plt.ylim(limits)\n",
        "plt.legend()\n",
        "plt.grid(True,linewidth = 0.5)\n",
        "plt.show()\n"
      ]
    },
    {
      "cell_type": "markdown",
      "source": [
        "## Función Sigmoide"
      ],
      "metadata": {
        "id": "2ZrU5HE_KsN8"
      }
    },
    {
      "cell_type": "code",
      "source": [
        "import numpy as np\n",
        "import matplotlib.pyplot as plt\n",
        "\n",
        "# Definir la función sigmoide\n",
        "def sigmoid(x):\n",
        "    return 1 / (1 + np.exp(-x))\n",
        "\n",
        "# Crear un rango de valores para x\n",
        "x = np.linspace(-10, 10, 400)\n",
        "y = sigmoid(x)\n",
        "\n",
        "# Crear la gráfica\n",
        "plt.figure(figsize=(6, 5))\n",
        "plt.plot(x, y,'r',linewidth = 2, label=\"Sigmoide(x)\")\n",
        "plt.title(\"Función sigmoide\")\n",
        "plt.xlabel(\"x\")\n",
        "plt.ylabel(\"Sigmoide(x)\")\n",
        "limits = (-10, 10)\n",
        "limits = (-5, 5)\n",
        "plt.xlim(limits)\n",
        "plt.ylim(-0.5,1.5)\n",
        "plt.legend()\n",
        "plt.grid(True,linewidth = 0.5)\n",
        "plt.show()\n"
      ],
      "metadata": {
        "id": "qzN-4t6lKi3X"
      },
      "execution_count": null,
      "outputs": []
    },
    {
      "cell_type": "markdown",
      "source": [
        "# Grafo"
      ],
      "metadata": {
        "id": "eET0iwBUwj0D"
      }
    },
    {
      "cell_type": "markdown",
      "source": [
        "## Grafo Ejemplo vertex Cover"
      ],
      "metadata": {
        "id": "X-MEFOvnwm7j"
      }
    },
    {
      "cell_type": "code",
      "source": [
        "import networkx as nx\n",
        "import matplotlib.pyplot as plt\n",
        "# Crear un grafo dirigido\n",
        "G = nx.Graph()\n",
        "G.add_edge(0, 1)\n",
        "G.add_edge(0, 2)\n",
        "G.add_edge(0, 3)\n",
        "G.add_edge(1, 3)\n",
        "G.add_edge(1, 4)\n",
        "G.add_edge(2, 4)\n",
        "\n",
        "# Configuraciones de visualización\n",
        "node_color = 'lightgreen'      # Color de los nodos\n",
        "node_size = 800             # Tamaño de los nodos\n",
        "node_border_color = 'k'     # Color del borde de los nodos\n",
        "edge_color = 'gray'         # Color de las aristas\n",
        "font_size = 12              # Tamaño de la fuente de los etiquetas de los nodos\n",
        "\n",
        "\n",
        "\n",
        "# Dibujar el grafo\n",
        "plt.figure(figsize=(6, 4))\n",
        "pos = nx.spring_layout(G, seed = 1)  # Posiciones de los nodos en un diseño de \"muelle\"\n",
        "nx.draw(G, pos, with_labels=True, node_color=node_color, node_size=node_size,\n",
        "        edge_color=edge_color, linewidths=1.5, font_size=font_size,\n",
        "        edgecolors=node_border_color)\n",
        "\n",
        "#plt.title(r'Grafo de Ejemplo $G$')\n",
        "plt.show()\n"
      ],
      "metadata": {
        "id": "WhK0siOuwpnc"
      },
      "execution_count": null,
      "outputs": []
    }
  ]
}